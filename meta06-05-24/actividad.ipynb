{
 "cells": [
  {
   "cell_type": "markdown",
   "metadata": {},
   "source": [
    "## Programando con Python III   💪🐍\n",
    "### Codificar el siguiente programa con Python y colocar el enlace de su código (Github ó Google Drive). Fecha Límite **06/MAY/2024 20:59:59.** \n",
    "\n",
    "#### **Ejercicio 1**\n",
    "\n",
    "###### Escribir un programa que pida al usuario un número entero y muestre por pantalla un triángulo rectángulo como el de más abajo, de altura el número introducido.  "
   ]
  },
  {
   "cell_type": "code",
   "execution_count": 10,
   "metadata": {},
   "outputs": [
    {
     "name": "stdout",
     "output_type": "stream",
     "text": [
      "*\n",
      "**\n",
      "***\n",
      "****\n",
      "*****\n",
      "******\n",
      "*******\n"
     ]
    }
   ],
   "source": [
    "altura = int(input(\"Altura: \"))\n",
    "\n",
    "if altura > 0:\n",
    "    for i in range(1, altura + 1):\n",
    "        print('*' * i)\n",
    "else:\n",
    "    print(\"La altura debe ser un número positivo.\")"
   ]
  },
  {
   "cell_type": "markdown",
   "metadata": {},
   "source": [
    "#### **Ejercicio 2**\n",
    "\n",
    "###### Escribir un programa que pida al usuario un número entero primo y muestre por pantalla un triángulo rectángulo como el de más abajo.    "
   ]
  },
  {
   "cell_type": "code",
   "execution_count": 15,
   "metadata": {},
   "outputs": [
    {
     "name": "stdout",
     "output_type": "stream",
     "text": [
      "11 7 5 3 2 \n",
      "7 5 3 2 \n",
      "5 3 2 \n",
      "3 2 \n",
      "2 \n"
     ]
    }
   ],
   "source": [
    "def es_primo(numero):\n",
    "    if numero <= 1:\n",
    "        return False\n",
    "    elif numero <= 3:\n",
    "        return True\n",
    "    elif numero % 2 == 0 or numero % 3 == 0:\n",
    "        return False\n",
    "    i = 5\n",
    "    while i * i <= numero:\n",
    "        if numero % i == 0 or numero % (i + 2) == 0:\n",
    "            return False\n",
    "        i += 6\n",
    "    return True\n",
    "\n",
    "def imprimir_numeros(numero):\n",
    "    for i in range(numero, 0, -1):\n",
    "        if es_primo(i):\n",
    "            for j in range(i, 0, -1):\n",
    "                if es_primo(j) or (j == 1 and es_primo(1)):\n",
    "                    print(j, end=' ')\n",
    "            print()\n",
    "\n",
    "numero = int(input(\"Número: \"))\n",
    "imprimir_numeros(numero)"
   ]
  },
  {
   "cell_type": "markdown",
   "metadata": {},
   "source": [
    "#### **Ejercicio 3**\n",
    "\n",
    "###### Escribir un programa que pida al usuario una palabra y muestre por pantalla si es un palíndromo.  "
   ]
  },
  {
   "cell_type": "code",
   "execution_count": 24,
   "metadata": {},
   "outputs": [
    {
     "name": "stdout",
     "output_type": "stream",
     "text": [
      "La palabra no es un palíndromo.\n"
     ]
    }
   ],
   "source": [
    "palabra = input(\"Palabra: \")\n",
    "\n",
    "palabra = palabra.lower()\n",
    "es_palindromo = palabra == palabra[::-1]\n",
    "\n",
    "if es_palindromo:\n",
    "    print(\"La palabra sí es un palíndromo.\")\n",
    "else:\n",
    "    print(\"La palabra no es un palíndromo.\")"
   ]
  }
 ],
 "metadata": {
  "kernelspec": {
   "display_name": "Python 3",
   "language": "python",
   "name": "python3"
  },
  "language_info": {
   "codemirror_mode": {
    "name": "ipython",
    "version": 3
   },
   "file_extension": ".py",
   "mimetype": "text/x-python",
   "name": "python",
   "nbconvert_exporter": "python",
   "pygments_lexer": "ipython3",
   "version": "3.12.2"
  }
 },
 "nbformat": 4,
 "nbformat_minor": 2
}
